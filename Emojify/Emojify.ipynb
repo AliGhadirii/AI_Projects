{
 "cells": [
  {
   "cell_type": "code",
   "execution_count": 1,
   "metadata": {},
   "outputs": [
    {
     "name": "stdout",
     "output_type": "stream",
     "text": [
      "INFO:tensorflow:Enabling eager execution\n",
      "INFO:tensorflow:Enabling v2 tensorshape\n",
      "INFO:tensorflow:Enabling resource variables\n",
      "INFO:tensorflow:Enabling tensor equality\n",
      "INFO:tensorflow:Enabling control flow v2\n"
     ]
    }
   ],
   "source": [
    "import numpy as np\n",
    "from utils import *\n",
    "import emoji\n",
    "import matplotlib.pyplot as plt\n",
    "np.random.seed(0)\n",
    "from keras.models import Model\n",
    "from keras.layers import Dense, Input, Dropout, LSTM, Activation\n",
    "from keras.layers.embeddings import Embedding\n",
    "from keras.preprocessing import sequence\n",
    "from keras.initializers import glorot_uniform\n",
    "np.random.seed(1)\n",
    "\n",
    "%matplotlib inline"
   ]
  },
  {
   "cell_type": "code",
   "execution_count": 2,
   "metadata": {},
   "outputs": [],
   "source": [
    "X_train, Y_train = read_csv('data/train_emoji.csv')\n",
    "X_test, Y_test = read_csv('data/tesss.csv')\n",
    "word_to_index, index_to_word, word_to_vec_map = read_glove_vecs('data/glove.6B.50d.txt')"
   ]
  },
  {
   "cell_type": "code",
   "execution_count": 3,
   "metadata": {},
   "outputs": [],
   "source": [
    "maxLen = len(max(X_train, key=len).split())"
   ]
  },
  {
   "cell_type": "code",
   "execution_count": 4,
   "metadata": {},
   "outputs": [
    {
     "name": "stdout",
     "output_type": "stream",
     "text": [
      "I am proud of your achievements 😄\n"
     ]
    }
   ],
   "source": [
    "index = 1\n",
    "print(X_train[index], label_to_emoji(Y_train[index]))"
   ]
  },
  {
   "cell_type": "code",
   "execution_count": 5,
   "metadata": {},
   "outputs": [],
   "source": [
    "def sentences_to_indices(X, word_to_index, max_len):\n",
    "\n",
    "    m = X.shape[0]                                   # number of training examples\n",
    "    X_indices = np.zeros((m,max_len))    \n",
    "    for i in range(m):                               # loop over training examples\n",
    "        \n",
    "        sentence_words = X[i].lower().split()\n",
    "        j = 0\n",
    "        for w in sentence_words:\n",
    "            \n",
    "            X_indices[i, j] = word_to_index[w]\n",
    "            j += 1\n",
    "    \n",
    "    return X_indices"
   ]
  },
  {
   "cell_type": "code",
   "execution_count": 6,
   "metadata": {},
   "outputs": [],
   "source": [
    "def pretrained_embedding_layer(word_to_vec_map, word_to_index):\n",
    "    \n",
    "    vocab_len = len(word_to_index) + 1                  # adding 1 to fit Keras embedding (requirement)\n",
    "    emb_dim = word_to_vec_map[\"cucumber\"].shape[0]      # define dimensionality of your GloVe word vectors (= 50)\n",
    "    \n",
    "    emb_matrix = np.zeros((vocab_len,emb_dim))\n",
    "    \n",
    "    \n",
    "    for word, index in word_to_index.items():\n",
    "        emb_matrix[index, :] = word_to_vec_map[word]\n",
    "\n",
    "    \n",
    "    embedding_layer = Embedding(vocab_len, emb_dim,trainable=False)\n",
    "\n",
    "    embedding_layer.build((None,))\n",
    "    \n",
    "    embedding_layer.set_weights([emb_matrix])\n",
    "    \n",
    "    return embedding_layer"
   ]
  },
  {
   "cell_type": "code",
   "execution_count": 7,
   "metadata": {},
   "outputs": [],
   "source": [
    "embedding_layer = pretrained_embedding_layer(word_to_vec_map, word_to_index)"
   ]
  },
  {
   "cell_type": "code",
   "execution_count": 8,
   "metadata": {},
   "outputs": [],
   "source": [
    "def Emojify_V2(input_shape, word_to_vec_map, word_to_index):\n",
    "    \n",
    "    sentence_indices = Input(shape = input_shape, dtype = 'int32')\n",
    "    \n",
    "    embedding_layer = pretrained_embedding_layer(word_to_vec_map, word_to_index)\n",
    "    \n",
    "    embeddings = embedding_layer(sentence_indices)   \n",
    "    X = LSTM(128, return_sequences=True)(embeddings)\n",
    "    X = Dropout(0.5)(X)\n",
    "    X = LSTM(128, return_sequences=False)(X)\n",
    "    X = Dropout(0.5)(X)\n",
    "    X = Dense(5)(X)\n",
    "    X = Activation(\"softmax\")(X)\n",
    "    model = Model(inputs=sentence_indices, outputs=X)\n",
    "    \n",
    "    return model"
   ]
  },
  {
   "cell_type": "code",
   "execution_count": 9,
   "metadata": {
    "scrolled": false
   },
   "outputs": [
    {
     "name": "stdout",
     "output_type": "stream",
     "text": [
      "Model: \"model\"\n",
      "_________________________________________________________________\n",
      "Layer (type)                 Output Shape              Param #   \n",
      "=================================================================\n",
      "input_1 (InputLayer)         [(None, 10)]              0         \n",
      "_________________________________________________________________\n",
      "embedding_1 (Embedding)      (None, 10, 50)            20000050  \n",
      "_________________________________________________________________\n",
      "lstm (LSTM)                  (None, 10, 128)           91648     \n",
      "_________________________________________________________________\n",
      "dropout (Dropout)            (None, 10, 128)           0         \n",
      "_________________________________________________________________\n",
      "lstm_1 (LSTM)                (None, 128)               131584    \n",
      "_________________________________________________________________\n",
      "dropout_1 (Dropout)          (None, 128)               0         \n",
      "_________________________________________________________________\n",
      "dense (Dense)                (None, 5)                 645       \n",
      "_________________________________________________________________\n",
      "activation (Activation)      (None, 5)                 0         \n",
      "=================================================================\n",
      "Total params: 20,223,927\n",
      "Trainable params: 223,877\n",
      "Non-trainable params: 20,000,050\n",
      "_________________________________________________________________\n"
     ]
    }
   ],
   "source": [
    "model = Emojify_V2((maxLen,), word_to_vec_map, word_to_index)\n",
    "model.summary()"
   ]
  },
  {
   "cell_type": "code",
   "execution_count": 10,
   "metadata": {},
   "outputs": [],
   "source": [
    "model.compile(loss='categorical_crossentropy', optimizer='adam', metrics=['accuracy'])"
   ]
  },
  {
   "cell_type": "code",
   "execution_count": 11,
   "metadata": {},
   "outputs": [],
   "source": [
    "X_train_indices = sentences_to_indices(X_train, word_to_index, maxLen)\n",
    "Y_train_oh = convert_to_one_hot(Y_train, C = 5)"
   ]
  },
  {
   "cell_type": "code",
   "execution_count": 12,
   "metadata": {
    "scrolled": true
   },
   "outputs": [
    {
     "name": "stdout",
     "output_type": "stream",
     "text": [
      "Epoch 1/50\n",
      "9/9 [==============================] - 4s 15ms/step - loss: 1.5966 - accuracy: 0.2494\n",
      "Epoch 2/50\n",
      "9/9 [==============================] - 0s 13ms/step - loss: 1.4872 - accuracy: 0.3292\n",
      "Epoch 3/50\n",
      "9/9 [==============================] - 0s 14ms/step - loss: 1.3855 - accuracy: 0.4389\n",
      "Epoch 4/50\n",
      "9/9 [==============================] - 0s 15ms/step - loss: 1.2190 - accuracy: 0.5853\n",
      "Epoch 5/50\n",
      "9/9 [==============================] - 0s 15ms/step - loss: 0.9626 - accuracy: 0.6512\n",
      "Epoch 6/50\n",
      "9/9 [==============================] - 0s 17ms/step - loss: 0.7781 - accuracy: 0.7037\n",
      "Epoch 7/50\n",
      "9/9 [==============================] - 0s 17ms/step - loss: 0.6457 - accuracy: 0.7679\n",
      "Epoch 8/50\n",
      "9/9 [==============================] - 0s 17ms/step - loss: 0.7128 - accuracy: 0.7267\n",
      "Epoch 9/50\n",
      "9/9 [==============================] - 0s 17ms/step - loss: 0.4353 - accuracy: 0.8644\n",
      "Epoch 10/50\n",
      "9/9 [==============================] - 0s 19ms/step - loss: 0.3345 - accuracy: 0.8866\n",
      "Epoch 11/50\n",
      "9/9 [==============================] - 0s 19ms/step - loss: 0.3824 - accuracy: 0.8843\n",
      "Epoch 12/50\n",
      "9/9 [==============================] - 0s 19ms/step - loss: 0.2992 - accuracy: 0.9006\n",
      "Epoch 13/50\n",
      "9/9 [==============================] - 0s 19ms/step - loss: 0.2911 - accuracy: 0.8930\n",
      "Epoch 14/50\n",
      "9/9 [==============================] - 0s 19ms/step - loss: 0.2601 - accuracy: 0.9400\n",
      "Epoch 15/50\n",
      "9/9 [==============================] - 0s 19ms/step - loss: 0.4502 - accuracy: 0.8296\n",
      "Epoch 16/50\n",
      "9/9 [==============================] - 0s 19ms/step - loss: 0.2011 - accuracy: 0.9462\n",
      "Epoch 17/50\n",
      "9/9 [==============================] - 0s 19ms/step - loss: 0.2788 - accuracy: 0.9254\n",
      "Epoch 18/50\n",
      "9/9 [==============================] - 0s 19ms/step - loss: 0.2114 - accuracy: 0.8859\n",
      "Epoch 19/50\n",
      "9/9 [==============================] - 0s 18ms/step - loss: 0.1132 - accuracy: 0.9644\n",
      "Epoch 20/50\n",
      "9/9 [==============================] - 0s 19ms/step - loss: 0.0946 - accuracy: 0.9664\n",
      "Epoch 21/50\n",
      "9/9 [==============================] - 0s 18ms/step - loss: 0.0705 - accuracy: 0.9757\n",
      "Epoch 22/50\n",
      "9/9 [==============================] - 0s 19ms/step - loss: 0.0946 - accuracy: 0.9628\n",
      "Epoch 23/50\n",
      "9/9 [==============================] - 0s 19ms/step - loss: 0.1493 - accuracy: 0.9322\n",
      "Epoch 24/50\n",
      "9/9 [==============================] - 0s 19ms/step - loss: 0.0519 - accuracy: 0.9958\n",
      "Epoch 25/50\n",
      "9/9 [==============================] - 0s 18ms/step - loss: 0.0233 - accuracy: 0.9958\n",
      "Epoch 26/50\n",
      "9/9 [==============================] - 0s 19ms/step - loss: 0.0227 - accuracy: 0.9968\n",
      "Epoch 27/50\n",
      "9/9 [==============================] - 0s 18ms/step - loss: 0.0782 - accuracy: 0.9728\n",
      "Epoch 28/50\n",
      "9/9 [==============================] - 0s 18ms/step - loss: 0.0228 - accuracy: 0.9958\n",
      "Epoch 29/50\n",
      "9/9 [==============================] - 0s 19ms/step - loss: 0.0736 - accuracy: 0.9621\n",
      "Epoch 30/50\n",
      "9/9 [==============================] - 0s 20ms/step - loss: 0.1149 - accuracy: 0.9607\n",
      "Epoch 31/50\n",
      "9/9 [==============================] - 0s 19ms/step - loss: 0.0124 - accuracy: 0.9977\n",
      "Epoch 32/50\n",
      "9/9 [==============================] - 0s 19ms/step - loss: 0.0705 - accuracy: 0.9661\n",
      "Epoch 33/50\n",
      "9/9 [==============================] - 0s 20ms/step - loss: 0.0419 - accuracy: 0.9866\n",
      "Epoch 34/50\n",
      "9/9 [==============================] - 0s 20ms/step - loss: 0.0306 - accuracy: 1.0000\n",
      "Epoch 35/50\n",
      "9/9 [==============================] - 0s 20ms/step - loss: 0.0122 - accuracy: 1.0000\n",
      "Epoch 36/50\n",
      "9/9 [==============================] - 0s 20ms/step - loss: 0.0109 - accuracy: 1.0000\n",
      "Epoch 37/50\n",
      "9/9 [==============================] - 0s 20ms/step - loss: 0.0259 - accuracy: 0.9945\n",
      "Epoch 38/50\n",
      "9/9 [==============================] - 0s 20ms/step - loss: 0.0896 - accuracy: 0.9762\n",
      "Epoch 39/50\n",
      "9/9 [==============================] - 0s 19ms/step - loss: 0.1692 - accuracy: 0.9599\n",
      "Epoch 40/50\n",
      "9/9 [==============================] - 0s 19ms/step - loss: 0.1259 - accuracy: 0.9538\n",
      "Epoch 41/50\n",
      "9/9 [==============================] - 0s 20ms/step - loss: 0.6050 - accuracy: 0.8216\n",
      "Epoch 42/50\n",
      "9/9 [==============================] - 0s 20ms/step - loss: 0.4881 - accuracy: 0.8183\n",
      "Epoch 43/50\n",
      "9/9 [==============================] - 0s 20ms/step - loss: 0.2140 - accuracy: 0.9283\n",
      "Epoch 44/50\n",
      "9/9 [==============================] - 0s 19ms/step - loss: 0.0787 - accuracy: 0.9945\n",
      "Epoch 45/50\n",
      "9/9 [==============================] - 0s 20ms/step - loss: 0.0501 - accuracy: 0.9945\n",
      "Epoch 46/50\n",
      "9/9 [==============================] - 0s 21ms/step - loss: 0.0398 - accuracy: 1.0000\n",
      "Epoch 47/50\n",
      "9/9 [==============================] - 0s 22ms/step - loss: 0.0278 - accuracy: 1.0000\n",
      "Epoch 48/50\n",
      "9/9 [==============================] - 0s 20ms/step - loss: 0.0167 - accuracy: 1.0000\n",
      "Epoch 49/50\n",
      "9/9 [==============================] - 0s 20ms/step - loss: 0.0085 - accuracy: 1.0000\n",
      "Epoch 50/50\n",
      "9/9 [==============================] - 0s 20ms/step - loss: 0.0126 - accuracy: 1.0000\n"
     ]
    },
    {
     "data": {
      "text/plain": [
       "<tensorflow.python.keras.callbacks.History at 0x14693b3f940>"
      ]
     },
     "execution_count": 12,
     "metadata": {},
     "output_type": "execute_result"
    }
   ],
   "source": [
    "model.fit(X_train_indices, Y_train_oh, epochs = 50, batch_size = 16, shuffle=True)"
   ]
  },
  {
   "cell_type": "code",
   "execution_count": 13,
   "metadata": {},
   "outputs": [
    {
     "data": {
      "image/png": "[encoded data removed]",
      "text/plain": [
       "<Figure size 432x288 with 1 Axes>"
      ]
     },
     "metadata": {
      "needs_background": "light"
     },
     "output_type": "display_data"
    }
   ],
   "source": [
    "import seaborn as sns\n",
    "loss = model.history.history['loss']\n",
    "sns.lineplot(x=range(len(loss)),y=loss)\n",
    "plt.title(\"Training Loss per Epoch\");"
   ]
  },
  {
   "cell_type": "code",
   "execution_count": 14,
   "metadata": {
    "scrolled": true
   },
   "outputs": [
    {
     "name": "stdout",
     "output_type": "stream",
     "text": [
      "2/2 [==============================] - 1s 8ms/step - loss: 0.2828 - accuracy: 0.8929\n",
      "\n",
      "Test accuracy =  0.8928571343421936\n"
     ]
    }
   ],
   "source": [
    "X_test_indices = sentences_to_indices(X_test, word_to_index, max_len = maxLen)\n",
    "Y_test_oh = convert_to_one_hot(Y_test, C = 5)\n",
    "loss, acc = model.evaluate(X_test_indices, Y_test_oh)\n",
    "print()\n",
    "print(\"Test accuracy = \", acc)"
   ]
  },
  {
   "cell_type": "code",
   "execution_count": 15,
   "metadata": {},
   "outputs": [
    {
     "name": "stdout",
     "output_type": "stream",
     "text": [
      "Expected emoji:😄 prediction: she got me a nice present\t❤️\n",
      "Expected emoji:😞 prediction: work is hard\t😄\n",
      "Expected emoji:😞 prediction: This girl is messing with me\t❤️\n",
      "Expected emoji:😄 prediction: you brighten my day\t❤️\n",
      "Expected emoji:😞 prediction: she is a bully\t❤️\n",
      "Expected emoji:😄 prediction: will you be my valentine\t❤️\n"
     ]
    }
   ],
   "source": [
    "# This code allows you to see the mislabelled examples\n",
    "C = 5\n",
    "y_test_oh = np.eye(C)[Y_test.reshape(-1)]\n",
    "X_test_indices = sentences_to_indices(X_test, word_to_index, maxLen)\n",
    "pred = model.predict(X_test_indices)\n",
    "for i in range(len(X_test)):\n",
    "    x = X_test_indices\n",
    "    num = np.argmax(pred[i])\n",
    "    if(num != Y_test[i]):\n",
    "        print('Expected emoji:'+ label_to_emoji(Y_test[i]) + ' prediction: '+ X_test[i] + label_to_emoji(num).strip())"
   ]
  }
 ],
 "metadata": {
  "coursera": {
   "course_slug": "nlp-sequence-models",
   "graded_item_id": "RNnEs",
   "launcher_item_id": "acNYU"
  },
  "kernelspec": {
   "display_name": "Python 3",
   "language": "python",
   "name": "python3"
  },
  "language_info": {
   "codemirror_mode": {
    "name": "ipython",
    "version": 3
   },
   "file_extension": ".py",
   "mimetype": "text/x-python",
   "name": "python",
   "nbconvert_exporter": "python",
   "pygments_lexer": "ipython3",
   "version": "3.9.4"
  }
 },
 "nbformat": 4,
 "nbformat_minor": 2
}
